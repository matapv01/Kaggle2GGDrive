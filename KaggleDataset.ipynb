{
  "nbformat": 4,
  "nbformat_minor": 0,
  "metadata": {
    "colab": {
      "provenance": []
    },
    "kernelspec": {
      "name": "python3",
      "display_name": "Python 3"
    },
    "language_info": {
      "name": "python"
    }
  },
  "cells": [
    {
      "cell_type": "code",
      "execution_count": null,
      "metadata": {
        "id": "tPSN2WkZcCMF"
      },
      "outputs": [],
      "source": [
        "# Dataset public thì skip\n",
        "from google.colab import files\n",
        "\n",
        "# Tải lên kaggle.json\n",
        "files.upload()\n"
      ]
    },
    {
      "cell_type": "markdown",
      "source": [
        "# Sau khi tải lên, di chuyển kaggle.json vào thư mục thích hợp và thiết lập quyền:"
      ],
      "metadata": {
        "id": "TtKQAgRcdlOU"
      }
    },
    {
      "cell_type": "code",
      "source": [
        "# Dataset public thì skip\n",
        "import os\n",
        "import shutil\n",
        "\n",
        "# Tạo thư mục Kaggle (nếu chưa có)\n",
        "os.makedirs(\"/root/.kaggle\", exist_ok=True)\n",
        "\n",
        "# Di chuyển file kaggle.json vào thư mục .kaggle\n",
        "shutil.move(\"kaggle.json\", \"/root/.kaggle/kaggle.json\")\n",
        "\n",
        "# Thiết lập quyền cho file\n",
        "os.chmod(\"/root/.kaggle/kaggle.json\", 600)\n"
      ],
      "metadata": {
        "id": "gtwXuUawdQ3U"
      },
      "execution_count": null,
      "outputs": []
    },
    {
      "cell_type": "markdown",
      "source": [
        "# Tải Dataset từ Kaggle\n",
        "Để tải dataset, bạn cần URL hoặc tên dataset từ Kaggle.\n",
        "\n",
        "Lấy phần sau datasets/, rồi chạy lệnh sau:"
      ],
      "metadata": {
        "id": "2kg-hqdWdqxB"
      }
    },
    {
      "cell_type": "code",
      "source": [
        "!kaggle datasets download -d username/dataset-name\n",
        "# thay vào username/dataset-name bằng cách nhìn lên đường dẫn vào dataset"
      ],
      "metadata": {
        "colab": {
          "base_uri": "https://localhost:8080/"
        },
        "id": "6ce3Xv82daed",
        "outputId": "030da914-ec2a-4138-a898-4d6da9ad1b96"
      },
      "execution_count": null,
      "outputs": [
        {
          "output_type": "stream",
          "name": "stdout",
          "text": [
            "Dataset URL: https://www.kaggle.com/datasets/odins0n/ucf-crime-dataset\n",
            "License(s): CC0-1.0\n",
            "Downloading ucf-crime-dataset.zip to /content\n",
            "  3% 332M/11.0G [00:04<02:50, 67.3MB/s]"
          ]
        }
      ]
    },
    {
      "cell_type": "markdown",
      "source": [
        "Dataset sẽ tải về ở định dạng .zip."
      ],
      "metadata": {
        "id": "MJw8WrJgd5sY"
      }
    },
    {
      "cell_type": "markdown",
      "source": [
        "# Giải nén Dataset"
      ],
      "metadata": {
        "id": "akWlEjFMeB1N"
      }
    },
    {
      "cell_type": "code",
      "source": [
        "import zipfile\n",
        "\n",
        "# Giải nén file zip\n",
        "with zipfile.ZipFile(\"dataset-name.zip\", \"r\") as zip_ref:\n",
        "    zip_ref.extractall(\"dataset\")\n",
        "# Thay \"dataset-name.zip\" bằng tên file zip vừa tải về.\n",
        "# Xóa file zip sau khi giải nén\n",
        "!rm /content/dataset-name.zip"
      ],
      "metadata": {
        "id": "xx4nYhcIeAKK"
      },
      "execution_count": null,
      "outputs": []
    },
    {
      "cell_type": "markdown",
      "source": [
        "# Kiểm tra Dataset\n"
      ],
      "metadata": {
        "id": "Oxb1vn_UeEEW"
      }
    },
    {
      "cell_type": "code",
      "source": [
        "import os\n",
        "\n",
        "# Liệt kê các file trong thư mục dataset\n",
        "os.listdir(\"dataset\")\n"
      ],
      "metadata": {
        "id": "xOCsEfdZeYPa"
      },
      "execution_count": null,
      "outputs": []
    },
    {
      "cell_type": "code",
      "source": [
        "import pandas as pd\n",
        "\n",
        "df = pd.read_csv(\"dataset/filename.csv\")  # Thay thế filename.csv bằng tên file thực tế\n",
        "df.head()\n"
      ],
      "metadata": {
        "id": "_SuH1vVkeayQ"
      },
      "execution_count": null,
      "outputs": []
    }
  ]
}